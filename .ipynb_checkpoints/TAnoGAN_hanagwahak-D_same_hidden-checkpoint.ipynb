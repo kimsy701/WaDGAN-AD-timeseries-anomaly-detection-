{
 "cells": [
  {
   "cell_type": "markdown",
   "metadata": {},
   "source": [
    "## TAnoGAN: Time Series Anomaly Detection with Generative Adversarial Networks\n",
    "\n",
    "Paper link at arXiv: https://arxiv.org/abs/2008.09567"
   ]
  },
  {
   "cell_type": "markdown",
   "metadata": {},
   "source": [
    "### Import required libraries"
   ]
  },
  {
   "cell_type": "code",
   "execution_count": 1,
   "metadata": {},
   "outputs": [],
   "source": [
    "import os\n",
    "import random\n",
    "import torch\n",
    "import torch.nn as nn\n",
    "import torch.backends.cudnn as cudnn\n",
    "import torch.optim as optim\n",
    "import torch.utils.data\n",
    "import torchvision\n",
    "import torch.nn.init as init\n",
    "from torch.autograd import Variable\n",
    "import datetime\n",
    "from nab_dataset import NabDataset\n",
    "from models.recurrent_models_pyramid_3 import LSTMGenerator, LSTMDiscriminator"
   ]
  },
  {
   "cell_type": "markdown",
   "metadata": {},
   "source": [
    "#### Define Basic Settings for Adversarial Training"
   ]
  },
  {
   "cell_type": "code",
   "execution_count": 2,
   "metadata": {},
   "outputs": [],
   "source": [
    "class ArgsTrn:\n",
    "    workers=4\n",
    "    batch_size=32\n",
    "    epochs=20\n",
    "    lr=0.0002\n",
    "    cuda = True\n",
    "    manualSeed=2\n",
    "opt_trn=ArgsTrn()"
   ]
  },
  {
   "cell_type": "code",
   "execution_count": 3,
   "metadata": {},
   "outputs": [],
   "source": [
    "torch.manual_seed(opt_trn.manualSeed)\n",
    "cudnn.benchmark = True"
   ]
  },
  {
   "cell_type": "markdown",
   "metadata": {},
   "source": [
    "### Setup Data Loader"
   ]
  },
  {
   "cell_type": "code",
   "execution_count": 4,
   "metadata": {},
   "outputs": [],
   "source": [
    "# location of datasets and category\n",
    "#end_name = 'cpu_utilization_asg_misconfiguration.csv' # dataset name\n",
    "end_name = '창의관_Dataset_RF_train.csv' #ISSDA의 80%인 training data\n",
    "data_file = '교내_스마트그리드\\\\'+end_name # dataset category and dataset name\n",
    "key = 'realKnownCause/'+end_name # This key is used for reading anomaly labels"
   ]
  },
  {
   "cell_type": "code",
   "execution_count": 5,
   "metadata": {},
   "outputs": [],
   "source": [
    "# settings for data loader\n",
    "class DataSettings:\n",
    "    \n",
    "    def __init__(self):\n",
    "        #self.BASE = 'D:\\\\ResearchDataGtx1060\\\\AnomalyDetectionData\\\\NabDataset\\\\'\n",
    "        self.BASE = 'C:\\\\Users\\\\KIM\\\\Desktop\\\\DSBA\\\\개인연구\\\\'\n",
    "        #self.label_file = 'labels\\\\combined_windows.json'\n",
    "        self.data_file = data_file\n",
    "        self.key = key\n",
    "        self.train = True\n",
    "    \n",
    "    \n",
    "data_settings = DataSettings()"
   ]
  },
  {
   "cell_type": "code",
   "execution_count": 6,
   "metadata": {},
   "outputs": [
    {
     "name": "stdout",
     "output_type": "stream",
     "text": [
      "불러온 dataframe        Unnamed: 0  Year  Month  Day  Hour  Min  Weekday  Month_X   Month_Y  \\\n",
      "0               0    15      1    1     0    0        3      0.5  0.866025   \n",
      "1               1    15      1    1     0   15        3      0.5  0.866025   \n",
      "2               2    15      1    1     0   30        3      0.5  0.866025   \n",
      "3               3    15      1    1     0   45        3      0.5  0.866025   \n",
      "4               4    15      1    1     1    0        3      0.5  0.866025   \n",
      "...           ...   ...    ...  ...   ...  ...      ...      ...       ...   \n",
      "84148       84148    17      5   26    13    0        4      0.5 -0.866025   \n",
      "84149       84149    17      5   26    13   15        4      0.5 -0.866025   \n",
      "84150       84150    17      5   26    13   30        4      0.5 -0.866025   \n",
      "84151       84151    17      5   26    13   45        4      0.5 -0.866025   \n",
      "84152       84152    17      5   26    14    0        4      0.5 -0.866025   \n",
      "\n",
      "          Day_X  ...  SensibleTemperature  isSpring  isSummer  isAutumn  \\\n",
      "0      0.201299  ...            -8.958662         0         0         0   \n",
      "1      0.201299  ...            -8.958662         0         0         0   \n",
      "2      0.201299  ...            -9.139181         0         0         0   \n",
      "3      0.201299  ...           -10.863097         0         0         0   \n",
      "4      0.201299  ...            -9.335345         0         0         0   \n",
      "...         ...  ...                  ...       ...       ...       ...   \n",
      "84148 -0.848644  ...            22.817377         1         0         0   \n",
      "84149 -0.848644  ...            22.776877         1         0         0   \n",
      "84150 -0.848644  ...            22.118363         1         0         0   \n",
      "84151 -0.848644  ...            23.303289         1         0         0   \n",
      "84152 -0.848644  ...            23.738160         1         0         0   \n",
      "\n",
      "       isWinter  isLight  isIntermediate  isPeak   UsedPower  label  \n",
      "0             1        1               0       0  499.682344      0  \n",
      "1             1        1               0       0  502.080000      0  \n",
      "2             1        1               0       0  499.200000      0  \n",
      "3             1        1               0       0  499.680000      0  \n",
      "4             1        1               0       0  492.960000      0  \n",
      "...         ...      ...             ...     ...         ...    ...  \n",
      "84148         0        0               0       1  911.520000      0  \n",
      "84149         0        0               0       1  924.960000      0  \n",
      "84150         0        0               0       1  929.280000      0  \n",
      "84151         0        0               0       1  934.080000      0  \n",
      "84152         0        0               0       1  932.160000      0  \n",
      "\n",
      "[84153 rows x 52 columns]\n"
     ]
    },
    {
     "data": {
      "text/plain": [
       "(torch.Size([84105, 48]), torch.Size([84105]))"
      ]
     },
     "execution_count": 6,
     "metadata": {},
     "output_type": "execute_result"
    }
   ],
   "source": [
    "# define dataset object and data loader object for NAB dataset\n",
    "dataset = NabDataset(data_settings=data_settings)\n",
    "dataloader = torch.utils.data.DataLoader(dataset, batch_size=opt_trn.batch_size,\n",
    "                                         shuffle=True, num_workers=int(opt_trn.workers))\n",
    "\n",
    "dataset.x.shape, dataset.y.shape # check the dataset shape"
   ]
  },
  {
   "cell_type": "markdown",
   "metadata": {},
   "source": [
    "### Setup Models"
   ]
  },
  {
   "cell_type": "code",
   "execution_count": 7,
   "metadata": {},
   "outputs": [
    {
     "name": "stdout",
     "output_type": "stream",
     "text": [
      "<torch.cuda.device object at 0x000002C304EE2F60>\n",
      "1\n",
      "GeForce RTX 2080 Ti\n",
      "True\n"
     ]
    }
   ],
   "source": [
    "\n",
    "#print(torch.cuda.current_device())\n",
    "print(torch.cuda.device(0))\n",
    "print(torch.cuda.device_count())\n",
    "print(torch.cuda.get_device_name(0))\n",
    "print(torch.cuda.is_available())\n"
   ]
  },
  {
   "cell_type": "code",
   "execution_count": 8,
   "metadata": {},
   "outputs": [
    {
     "name": "stdout",
     "output_type": "stream",
     "text": [
      "1\n"
     ]
    }
   ],
   "source": [
    "device = torch.device(\"cuda:0\" if opt_trn.cuda else \"cpu\") # select the device\n",
    "#device = torch.device(\"cpu\")\n",
    "seq_len = dataset.window_length # sequence length is equal to the window length\n",
    "in_dim = dataset.n_feature # input dimension is same as number of feature\n",
    "print(in_dim)"
   ]
  },
  {
   "cell_type": "code",
   "execution_count": 9,
   "metadata": {},
   "outputs": [],
   "source": [
    "# Create generator and discriminator models\n",
    "netD = LSTMDiscriminator(in_dim=in_dim, device=device).to(device)\n",
    "netG = LSTMGenerator(in_dim=in_dim, out_dim=in_dim, device=device).to(device)"
   ]
  },
  {
   "cell_type": "code",
   "execution_count": 10,
   "metadata": {},
   "outputs": [
    {
     "name": "stdout",
     "output_type": "stream",
     "text": [
      "|Discriminator Architecture|\n",
      " LSTMDiscriminator(\n",
      "  (lstm0): LSTM(1, 64, batch_first=True)\n",
      "  (lstm1): LSTM(64, 64, batch_first=True)\n",
      "  (lstm2): LSTM(64, 64, batch_first=True)\n",
      "  (linear): Sequential(\n",
      "    (0): Linear(in_features=64, out_features=1, bias=True)\n",
      "    (1): Sigmoid()\n",
      "  )\n",
      ")\n",
      "|Generator Architecture|\n",
      " LSTMGenerator(\n",
      "  (lstm0): LSTM(1, 64, batch_first=True)\n",
      "  (lstm1): LSTM(64, 64, batch_first=True)\n",
      "  (lstm2): LSTM(64, 64, batch_first=True)\n",
      "  (linear): Sequential(\n",
      "    (0): Linear(in_features=64, out_features=1, bias=True)\n",
      "    (1): Tanh()\n",
      "  )\n",
      ")\n",
      "\n"
     ]
    }
   ],
   "source": [
    "print(\"|Discriminator Architecture|\\n\", netD)\n",
    "print(\"|Generator Architecture|\\n\", netG)\n",
    "print(\"\")"
   ]
  },
  {
   "cell_type": "code",
   "execution_count": 11,
   "metadata": {},
   "outputs": [],
   "source": [
    "\n",
    "# Setup loss function\n",
    "criterion = nn.BCELoss().to(device)"
   ]
  },
  {
   "cell_type": "code",
   "execution_count": 12,
   "metadata": {},
   "outputs": [],
   "source": [
    "# setup optimizer\n",
    "optimizerD = optim.Adam(netD.parameters(), lr=opt_trn.lr)\n",
    "optimizerG = optim.Adam(netG.parameters(), lr=opt_trn.lr)"
   ]
  },
  {
   "cell_type": "code",
   "execution_count": 13,
   "metadata": {},
   "outputs": [
    {
     "data": {
      "text/plain": [
       "range(0, 20)"
      ]
     },
     "execution_count": 13,
     "metadata": {},
     "output_type": "execute_result"
    }
   ],
   "source": [
    "range(opt_trn.epochs)"
   ]
  },
  {
   "cell_type": "markdown",
   "metadata": {},
   "source": [
    "### Adversarial Training of Generator and Discriminator Models"
   ]
  },
  {
   "cell_type": "code",
   "execution_count": null,
   "metadata": {},
   "outputs": [
    {
     "name": "stderr",
     "output_type": "stream",
     "text": [
      "C:\\Users\\KIM\\Anaconda3\\envs\\pytorch\\lib\\site-packages\\torch\\nn\\modules\\loss.py:498: UserWarning: Using a target size (torch.Size([32, 48, 1])) that is different to the input size (torch.Size([1536, 1])) is deprecated. Please ensure they have the same size.\n",
      "  return F.binary_cross_entropy(input, target, weight=self.weight, reduction=self.reduction)\n",
      "C:\\Users\\KIM\\AppData\\Roaming\\Python\\Python36\\site-packages\\ipykernel_launcher.py:38: UserWarning: nn.init.normal is now deprecated in favor of nn.init.normal_.\n",
      "C:\\Users\\KIM\\AppData\\Roaming\\Python\\Python36\\site-packages\\ipykernel_launcher.py:53: UserWarning: nn.init.normal is now deprecated in favor of nn.init.normal_.\n"
     ]
    }
   ],
   "source": [
    "real_label = 1\n",
    "fake_label = 0\n",
    "\n",
    "D_loss_list =[]\n",
    "G_loss_list=[]\n",
    "#for epoch in range(opt_trn.epochs):\n",
    "for epoch in range(opt_trn.epochs):\n",
    "    for i, (x,y) in enumerate(dataloader, 0):\n",
    "        \n",
    "        ############################\n",
    "        # (1) Update D network: maximize log(D(x)) + log(1 - D(G(z)))\n",
    "        ###########################\n",
    "\n",
    "        #Train with real data\n",
    "        netD.zero_grad()\n",
    "        real = x.to(device) #shape:(32,48)\n",
    "        #print(real)\n",
    "        #real.unsqueeze_(-1)\n",
    "        batch_size, seq_len = real.size(0), real.size(1)\n",
    "        #real = real.expand(batch_size, seq_len, 1)\n",
    "        #real = torch.full((batch_size, seq_len, 1), real, device = device)\n",
    "        \n",
    "        label = torch.full((batch_size, seq_len, 1), real_label, device=device)\n",
    "        \n",
    "        #2차원의 real을 3차원으로 만들기\n",
    "        real.unsqueeze_(-1)\n",
    "        batch_size, seq_len = real.size(0), real.size(1)\n",
    "        real = real.expand(batch_size, seq_len, 1)\n",
    "        \n",
    "        output,_ = netD.forward(real) #3-D여야 하는데 got 2?\n",
    "        \n",
    "        errD_real = criterion(output, label)\n",
    "        errD_real.backward()\n",
    "        optimizerD.step()\n",
    "        D_x = output.mean().item()\n",
    "        \n",
    "        #Train with fake data??? 더 D와 G를 똑똑하게 하려고??\n",
    "        noise = Variable(init.normal(torch.Tensor(batch_size,seq_len,in_dim),mean=0,std=0.1)).cuda()\n",
    "        #noise = Variable(init.normal(torch.Tensor(batch_size,seq_len,in_dim),mean=0,std=0.1))\n",
    "        fake,_ = netG.forward(noise)\n",
    "        output,_ = netD.forward(fake.detach()) # detach causes gradient is no longer being computed or stored to save memeory\n",
    "        label.fill_(fake_label)\n",
    "        errD_fake = criterion(output, label)\n",
    "        errD_fake.backward()\n",
    "        D_G_z1 = output.mean().item()\n",
    "        errD = errD_real + errD_fake\n",
    "        optimizerD.step()\n",
    "        \n",
    "        ############################\n",
    "        # (2) Update G network: maximize log(D(G(z)))\n",
    "        ###########################\n",
    "        netG.zero_grad()\n",
    "        noise = Variable(init.normal(torch.Tensor(batch_size,seq_len,in_dim),mean=0,std=0.1)).cuda()\n",
    "        #noise = Variable(init.normal(torch.Tensor(batch_size,seq_len,in_dim),mean=0,std=0.1))\n",
    "        fake,_ = netG.forward(noise)\n",
    "        label.fill_(real_label) \n",
    "        output,_ = netD.forward(fake)\n",
    "        errG = criterion(output, label)\n",
    "        errG.backward()\n",
    "        optimizerG.step()\n",
    "        D_G_z2 = output.mean().item()\n",
    "        D_loss_list.append(errD.item())\n",
    "        G_loss_list.append(errG.item())\n",
    "        \n",
    "        \n",
    "\n",
    "    print('[%d/%d][%d/%d] Loss_D: %.4f Loss_G: %.4f D(x): %.4f D(G(z)): %.4f / %.4f' \n",
    "          % (epoch, opt_trn.epochs, i, len(dataloader),\n",
    "             errD.item(), errG.item(), D_x, D_G_z1, D_G_z2), end='')\n",
    "    print()"
   ]
  },
  {
   "cell_type": "code",
   "execution_count": null,
   "metadata": {},
   "outputs": [],
   "source": [
    "\n",
    "print(G_loss_list[42000])\n",
    "print(G_loss_list[42500])\n",
    "print(G_loss_list[42700])\n",
    "print(G_loss_list[42800])\n",
    "print(G_loss_list[43000])\n",
    "\n",
    "#print(G_loss_list[31000])\n",
    "#print(G_loss_list[31000])\n",
    "print(len(G_loss_list))\n",
    "print(len(D_loss_list))\n"
   ]
  },
  {
   "cell_type": "code",
   "execution_count": null,
   "metadata": {},
   "outputs": [],
   "source": [
    "#G_loss_list에서 print(G_loss_list[33550])이 1.188660979270935로 최소 찍는다. 이 이후에는 과적합 의심됨. (총 길이: 52580)\n",
    "import matplotlib.pyplot as plt\n",
    "plt.rcParams[\"figure.figsize\"] = (20,4)\n",
    "\n",
    "plt.plot(D_loss_list)\n",
    "plt.plot(G_loss_list)\n",
    "plt.show()"
   ]
  },
  {
   "cell_type": "markdown",
   "metadata": {},
   "source": [
    "## Anomaly Detection"
   ]
  },
  {
   "cell_type": "markdown",
   "metadata": {},
   "source": [
    "#### Define basic settings for inverse mapping"
   ]
  },
  {
   "cell_type": "code",
   "execution_count": null,
   "metadata": {},
   "outputs": [],
   "source": [
    "class ArgsTest:\n",
    "    workers = 1\n",
    "    batch_size = 1\n",
    "    \n",
    "opt_test=ArgsTest()    "
   ]
  },
  {
   "cell_type": "code",
   "execution_count": null,
   "metadata": {},
   "outputs": [],
   "source": [
    "generator = netG # changing reference variable \n",
    "discriminator = netD # changing reference variable "
   ]
  },
  {
   "cell_type": "code",
   "execution_count": null,
   "metadata": {},
   "outputs": [],
   "source": [
    "# location of datasets and category\n",
    "#end_name = 'cpu_utilization_asg_misconfiguration.csv' # dataset name\n",
    "end_name = 'changui-koreauniv_test_with_attack.csv' #ISSDA의 80%인 training data\n",
    "data_file = '교내_스마트그리드\\\\'+end_name # dataset category and dataset name\n",
    "key = 'realKnownCause/'+end_name # This key is used for reading anomaly labels\n"
   ]
  },
  {
   "cell_type": "markdown",
   "metadata": {},
   "source": [
    "##### Define Test Data"
   ]
  },
  {
   "cell_type": "code",
   "execution_count": null,
   "metadata": {},
   "outputs": [],
   "source": [
    "# Define settings for loading data in evaluation mood\n",
    "class TestDataSettings:\n",
    "    \n",
    "    def __init__(self):\n",
    "        #self.BASE = 'D:\\\\ResearchDataGtx1060\\\\AnomalyDetectionData\\\\NabDataset\\\\'\n",
    "        self.BASE = 'C:\\\\Users\\\\KIM\\\\Desktop\\\\DSBA\\\\개인연구\\\\'\n",
    "        #self.label_file = 'labels\\\\combined_windows.json'\n",
    "        self.data_file = data_file\n",
    "        self.key = key\n",
    "        self.train = False #이거만 training이랑 다른점\n",
    "\n",
    "        \n",
    "test_data_settings = TestDataSettings()\n"
   ]
  },
  {
   "cell_type": "code",
   "execution_count": null,
   "metadata": {
    "scrolled": true
   },
   "outputs": [],
   "source": [
    "# define dataset object and data loader object in evaluation mood for NAB dataset\n",
    "\n",
    "test_dataset = NabDataset(test_data_settings)\n",
    "test_dataloader = torch.utils.data.DataLoader(test_dataset, batch_size=opt_test.batch_size, \n",
    "                                         shuffle=False, num_workers=int(opt_test.workers))\n",
    "\n",
    "test_dataset.x.shape, test_dataset.y.shape, test_dataset.data_len # check the dataset shape"
   ]
  },
  {
   "cell_type": "markdown",
   "metadata": {},
   "source": [
    "#### Define a function to calculate anomaly score"
   ]
  },
  {
   "cell_type": "code",
   "execution_count": null,
   "metadata": {},
   "outputs": [],
   "source": [
    "# Lambda = 0.1 according to paper\n",
    "# x is new data, G_z is closely regenerated data\n",
    "\n",
    "def Anomaly_score(x, G_z, Lambda=0.1):\n",
    "    residual_loss = torch.sum(torch.abs(x-G_z)) # Residual Loss\n",
    "    \n",
    "    # x_feature is a rich intermediate feature representation for real data x\n",
    "    real = x.to(device)\n",
    " \n",
    "    if len(list(real.size()))==2:\n",
    "        #print(real.shape)\n",
    "        real.unsqueeze_(-1)\n",
    "        batch_size, seq_len = real.size(0), real.size(1)\n",
    "        real = real.expand(batch_size, seq_len, 1)\n",
    "        #print(real.shape)\n",
    "        output, x_feature = discriminator(x.to(device)) \n",
    "        #output, x_feature = discriminator(real) \n",
    "        \n",
    "    else:\n",
    "        output, x_feature=discriminator(real)\n",
    "    # G_z_feature is a rich intermediate feature representation for fake data G(z)\n",
    "    output, G_z_feature = discriminator(G_z.to(device)) \n",
    "    \n",
    "    discrimination_loss = torch.sum(torch.abs(x_feature-G_z_feature)) # Discrimination loss\n",
    "    \n",
    "    total_loss = (1-Lambda)*residual_loss.to(device) + Lambda*discrimination_loss\n",
    "    return total_loss"
   ]
  },
  {
   "cell_type": "markdown",
   "metadata": {},
   "source": [
    "### Inverse mapping to latent space and reconstruction of data for estimating anomaly score"
   ]
  },
  {
   "cell_type": "code",
   "execution_count": null,
   "metadata": {
    "scrolled": false
   },
   "outputs": [],
   "source": [
    "loss_list = []\n",
    "#y_list = []\n",
    "for i, (x,y) in enumerate(test_dataloader):\n",
    "    #print(i, y)\n",
    "    \n",
    "    z = Variable(init.normal(torch.zeros(opt_test.batch_size,\n",
    "                                     test_dataset.window_length, \n",
    "                                     test_dataset.n_feature),mean=0,std=0.1),requires_grad=True)\n",
    "    #z = x\n",
    "    z_optimizer = torch.optim.Adam([z],lr=1e-2)\n",
    "    \n",
    "    loss = None\n",
    "    for j in range(50): # set your interation range\n",
    "        gen_fake,_ = generator(z.cuda())\n",
    "        #gen_fake,_ = generator(z)\n",
    "        loss = Anomaly_score(Variable(x).cuda(), gen_fake)\n",
    "        #loss = Anomaly_score(Variable(x), gen_fake)\n",
    "        loss.backward()\n",
    "        z_optimizer.step()\n",
    "\n",
    "    loss_list.append(loss) # Store the loss from the final iteration\n",
    "    #y_list.append(y) # Store the corresponding anomaly label\n",
    "    print('~~~~~~~~loss={},  y={} ~~~~~~~~~~'.format(loss, y))\n",
    "    #break"
   ]
  },
  {
   "cell_type": "code",
   "execution_count": 24,
   "metadata": {},
   "outputs": [
    {
     "name": "stdout",
     "output_type": "stream",
     "text": [
      "28004\n",
      "28004\n"
     ]
    }
   ],
   "source": [
    "print(len(loss_list))\n",
    "print(test_dataset.data_len)\n"
   ]
  },
  {
   "cell_type": "code",
   "execution_count": 25,
   "metadata": {},
   "outputs": [
    {
     "name": "stdout",
     "output_type": "stream",
     "text": [
      "28004\n",
      "48\n"
     ]
    }
   ],
   "source": [
    "print(len(loss_list))\n",
    "print(test_dataset.window_length)"
   ]
  },
  {
   "cell_type": "markdown",
   "metadata": {},
   "source": [
    "### Visualise Anomaly Detection"
   ]
  },
  {
   "cell_type": "code",
   "execution_count": 26,
   "metadata": {},
   "outputs": [
    {
     "data": {
      "image/png": "[encoded data removed]",
      "text/plain": [
       "<Figure size 1440x288 with 1 Axes>"
      ]
     },
     "metadata": {
      "needs_background": "light"
     },
     "output_type": "display_data"
    }
   ],
   "source": [
    "import pandas as pd\n",
    "import matplotlib.pyplot as plt\n",
    "\n",
    "THRESHOLD = 54 # Anomaly score threshold for an instance to be considered as anomaly #7.65\n",
    "\n",
    "#TIME_STEPS = dataset.window_length\n",
    "#test_score_df = pd.DataFrame(index=range(test_dataset.data_len)) #5136\n",
    "#test_score_df = pd.DataFrame(index=range(test_dataset.data_len-48)) #5136-48 = 5088\n",
    "test_score_df = pd.DataFrame(index=range(len(loss_list)))\n",
    "test_score_df['loss'] = [loss.item()/test_dataset.window_length for loss in loss_list] #29027\n",
    "test_score_df['y'] = test_dataset.y\n",
    "test_score_df['threshold'] = THRESHOLD\n",
    "test_score_df['anomaly'] = test_score_df.loss > test_score_df.threshold\n",
    "test_score_df['t'] = [x[47].item() for x in test_dataset.x] #x[59]\n",
    "\n",
    "plt.plot(test_score_df.index, test_score_df.loss, label='loss')\n",
    "plt.plot(test_score_df.index, test_score_df.threshold, label='threshold')\n",
    "plt.plot(test_score_df.index, test_score_df.y, label='y')\n",
    "plt.xticks(rotation=25)\n",
    "plt.legend();"
   ]
  },
  {
   "cell_type": "code",
   "execution_count": 27,
   "metadata": {
    "scrolled": false
   },
   "outputs": [
    {
     "data": {
      "image/png": "[encoded data removed]",
      "text/plain": [
       "<Figure size 1440x288 with 1 Axes>"
      ]
     },
     "metadata": {
      "needs_background": "light"
     },
     "output_type": "display_data"
    }
   ],
   "source": [
    "import seaborn as sns\n",
    "\n",
    "anomalies = test_score_df[test_score_df.anomaly == True]\n",
    "\n",
    "plt.plot(\n",
    "  range(test_dataset.data_len), \n",
    "  test_score_df['t'], \n",
    "  label='value'\n",
    ");\n",
    "\n",
    "sns.scatterplot(\n",
    "  anomalies.index,\n",
    "  anomalies.t,\n",
    "  color=sns.color_palette()[3],\n",
    "  s=52,\n",
    "  label='anomaly'\n",
    ")\n",
    "\n",
    "plt.plot(\n",
    "  range(len(test_score_df['y'])),\n",
    "  test_score_df['y'],\n",
    "  label='y'\n",
    ")\n",
    "\n",
    "plt.xticks(rotation=25)\n",
    "plt.legend();"
   ]
  },
  {
   "cell_type": "markdown",
   "metadata": {},
   "source": [
    "### Calculate the window-based anomalies"
   ]
  },
  {
   "cell_type": "code",
   "execution_count": 28,
   "metadata": {},
   "outputs": [],
   "source": [
    "import numpy as np\n",
    "start_end = []\n",
    "state = 0\n",
    "for idx in test_score_df.index:\n",
    "    if state==0 and test_score_df.loc[idx, 'y']==1:\n",
    "        state=1\n",
    "        start = idx\n",
    "    if state==1 and test_score_df.loc[idx, 'y']==0:\n",
    "        state = 0\n",
    "        end = idx\n",
    "        start_end.append((start, end))\n",
    "\n",
    "for s_e in start_end:\n",
    "    if sum(test_score_df[s_e[0]:s_e[1]+1]['anomaly'])>0:\n",
    "        for i in range(s_e[0], s_e[1]+1):\n",
    "            test_score_df.loc[i, 'anomaly'] = 1\n",
    "            \n",
    "actual = np.array(test_score_df['y'])\n",
    "predicted = np.array([int(a) for a in test_score_df['anomaly']])"
   ]
  },
  {
   "cell_type": "markdown",
   "metadata": {},
   "source": [
    "### Calculate measurement scores"
   ]
  },
  {
   "cell_type": "code",
   "execution_count": 29,
   "metadata": {},
   "outputs": [
    {
     "data": {
      "text/html": [
       "<div>\n",
       "<style scoped>\n",
       "    .dataframe tbody tr th:only-of-type {\n",
       "        vertical-align: middle;\n",
       "    }\n",
       "\n",
       "    .dataframe tbody tr th {\n",
       "        vertical-align: top;\n",
       "    }\n",
       "\n",
       "    .dataframe thead th {\n",
       "        text-align: right;\n",
       "    }\n",
       "</style>\n",
       "<table border=\"1\" class=\"dataframe\">\n",
       "  <thead>\n",
       "    <tr style=\"text-align: right;\">\n",
       "      <th></th>\n",
       "      <th>loss</th>\n",
       "      <th>y</th>\n",
       "      <th>threshold</th>\n",
       "      <th>anomaly</th>\n",
       "      <th>t</th>\n",
       "    </tr>\n",
       "  </thead>\n",
       "  <tbody>\n",
       "    <tr>\n",
       "      <th>0</th>\n",
       "      <td>41.115906</td>\n",
       "      <td>0.0</td>\n",
       "      <td>54</td>\n",
       "      <td>False</td>\n",
       "      <td>-1.196441</td>\n",
       "    </tr>\n",
       "    <tr>\n",
       "      <th>1</th>\n",
       "      <td>41.522982</td>\n",
       "      <td>0.0</td>\n",
       "      <td>54</td>\n",
       "      <td>False</td>\n",
       "      <td>-0.636836</td>\n",
       "    </tr>\n",
       "    <tr>\n",
       "      <th>2</th>\n",
       "      <td>40.835836</td>\n",
       "      <td>0.0</td>\n",
       "      <td>54</td>\n",
       "      <td>False</td>\n",
       "      <td>1.213470</td>\n",
       "    </tr>\n",
       "    <tr>\n",
       "      <th>3</th>\n",
       "      <td>37.261581</td>\n",
       "      <td>0.0</td>\n",
       "      <td>54</td>\n",
       "      <td>False</td>\n",
       "      <td>0.419192</td>\n",
       "    </tr>\n",
       "    <tr>\n",
       "      <th>4</th>\n",
       "      <td>42.844147</td>\n",
       "      <td>0.0</td>\n",
       "      <td>54</td>\n",
       "      <td>False</td>\n",
       "      <td>-0.952742</td>\n",
       "    </tr>\n",
       "    <tr>\n",
       "      <th>...</th>\n",
       "      <td>...</td>\n",
       "      <td>...</td>\n",
       "      <td>...</td>\n",
       "      <td>...</td>\n",
       "      <td>...</td>\n",
       "    </tr>\n",
       "    <tr>\n",
       "      <th>27951</th>\n",
       "      <td>34.465942</td>\n",
       "      <td>0.0</td>\n",
       "      <td>54</td>\n",
       "      <td>False</td>\n",
       "      <td>-1.115208</td>\n",
       "    </tr>\n",
       "    <tr>\n",
       "      <th>27952</th>\n",
       "      <td>34.445218</td>\n",
       "      <td>0.0</td>\n",
       "      <td>54</td>\n",
       "      <td>False</td>\n",
       "      <td>-0.754173</td>\n",
       "    </tr>\n",
       "    <tr>\n",
       "      <th>27953</th>\n",
       "      <td>38.296997</td>\n",
       "      <td>0.0</td>\n",
       "      <td>54</td>\n",
       "      <td>False</td>\n",
       "      <td>1.389474</td>\n",
       "    </tr>\n",
       "    <tr>\n",
       "      <th>27954</th>\n",
       "      <td>38.591705</td>\n",
       "      <td>0.0</td>\n",
       "      <td>54</td>\n",
       "      <td>False</td>\n",
       "      <td>-0.564629</td>\n",
       "    </tr>\n",
       "    <tr>\n",
       "      <th>27955</th>\n",
       "      <td>36.052739</td>\n",
       "      <td>0.0</td>\n",
       "      <td>54</td>\n",
       "      <td>False</td>\n",
       "      <td>-0.348008</td>\n",
       "    </tr>\n",
       "  </tbody>\n",
       "</table>\n",
       "<p>27956 rows × 5 columns</p>\n",
       "</div>"
      ],
      "text/plain": [
       "            loss    y  threshold anomaly         t\n",
       "0      41.115906  0.0         54   False -1.196441\n",
       "1      41.522982  0.0         54   False -0.636836\n",
       "2      40.835836  0.0         54   False  1.213470\n",
       "3      37.261581  0.0         54   False  0.419192\n",
       "4      42.844147  0.0         54   False -0.952742\n",
       "...          ...  ...        ...     ...       ...\n",
       "27951  34.465942  0.0         54   False -1.115208\n",
       "27952  34.445218  0.0         54   False -0.754173\n",
       "27953  38.296997  0.0         54   False  1.389474\n",
       "27954  38.591705  0.0         54   False -0.564629\n",
       "27955  36.052739  0.0         54   False -0.348008\n",
       "\n",
       "[27956 rows x 5 columns]"
      ]
     },
     "execution_count": 29,
     "metadata": {},
     "output_type": "execute_result"
    }
   ],
   "source": [
    "test_score_df"
   ]
  },
  {
   "cell_type": "code",
   "execution_count": 30,
   "metadata": {},
   "outputs": [
    {
     "name": "stdout",
     "output_type": "stream",
     "text": [
      "True Positive\t 519\n",
      "True Negative\t 26579\n",
      "False Positive\t 858\n",
      "False Negative\t 0\n",
      "Accuracy\t 0.9693089140077265\n",
      "Precision\t 0.3769063180827887\n",
      "Recall\t 1.0\n",
      "f-measure\t 0.5474683544303798\n",
      "cohen_kappa_score\t 0.5349271598295694\n",
      "auc\t 0.9843641797572621\n",
      "roc_auc\t 0.9843641797572621\n"
     ]
    }
   ],
   "source": [
    "import numpy as np\n",
    "from sklearn.metrics import cohen_kappa_score\n",
    "from sklearn.metrics import roc_curve, auc, roc_auc_score\n",
    "\n",
    "predicted = np.array(predicted)\n",
    "actual = np.array(actual)\n",
    "\n",
    "tp = np.count_nonzero(predicted * actual)\n",
    "tn = np.count_nonzero((predicted - 1) * (actual - 1))\n",
    "fp = np.count_nonzero(predicted * (actual - 1))\n",
    "fn = np.count_nonzero((predicted - 1) * actual)\n",
    "\n",
    "print('True Positive\\t', tp)\n",
    "print('True Negative\\t', tn)\n",
    "print('False Positive\\t', fp)\n",
    "print('False Negative\\t', fn)\n",
    "\n",
    "accuracy = (tp + tn) / (tp + fp + fn + tn)\n",
    "precision = tp / (tp + fp)\n",
    "recall = tp / (tp + fn)\n",
    "fmeasure = (2 * precision * recall) / (precision + recall)\n",
    "cohen_kappa_score = cohen_kappa_score(predicted, actual)\n",
    "false_positive_rate, true_positive_rate, thresholds = roc_curve(actual, predicted)\n",
    "auc_val = auc(false_positive_rate, true_positive_rate)\n",
    "roc_auc_val = roc_auc_score(actual, predicted)\n",
    "\n",
    "print('Accuracy\\t', accuracy)\n",
    "print('Precision\\t', precision)\n",
    "print('Recall\\t', recall)\n",
    "print('f-measure\\t', fmeasure)\n",
    "print('cohen_kappa_score\\t', cohen_kappa_score)\n",
    "print('auc\\t', auc_val)\n",
    "print('roc_auc\\t', roc_auc_val)"
   ]
  },
  {
   "cell_type": "code",
   "execution_count": 31,
   "metadata": {},
   "outputs": [],
   "source": [
    "def roc(loss_list, threshold):\n",
    "    test_score_df = pd.DataFrame(index=range(len(loss_list)))\n",
    "    test_score_df['loss'] = [loss.item()/test_dataset.window_length for loss in loss_list] #29027\n",
    "    test_score_df['y'] = test_dataset.y\n",
    "    test_score_df['threshold'] = threshold\n",
    "    test_score_df['anomaly'] = test_score_df.loss > test_score_df.threshold\n",
    "    test_score_df['t'] = [x[47].item() for x in test_dataset.x] #x[59]\n",
    "\n",
    "    start_end = []\n",
    "    state = 0\n",
    "    for idx in test_score_df.index:\n",
    "        if state==0 and test_score_df.loc[idx, 'y']==1:\n",
    "            state=1\n",
    "            start = idx\n",
    "        if state==1 and test_score_df.loc[idx, 'y']==0:\n",
    "            state = 0\n",
    "            end = idx\n",
    "            start_end.append((start, end))\n",
    "\n",
    "    for s_e in start_end:\n",
    "        if sum(test_score_df[s_e[0]:s_e[1]+1]['anomaly'])>0:\n",
    "            for i in range(s_e[0], s_e[1]+1):\n",
    "                test_score_df.loc[i, 'anomaly'] = 1\n",
    "                \n",
    "    actual = np.array(test_score_df['y'])\n",
    "    predicted = np.array([int(a) for a in test_score_df['anomaly']])\n",
    "\n",
    "\n",
    "    return actual, predicted"
   ]
  },
  {
   "cell_type": "code",
   "execution_count": null,
   "metadata": {},
   "outputs": [],
   "source": [
    "#AUROC 구하기\n",
    "import pandas as pd\n",
    "import numpy as np\n",
    "\n",
    "#threshold = 1,2,3....100으로 해주기\n",
    "threshold_list=[]\n",
    "for i in range(100):\n",
    "    threshold_list.append(i)\n",
    "\n",
    "\n",
    "final_actual11=[]\n",
    "final_predicted11 =[]\n",
    "\n",
    "TPR=[] \n",
    "FPR=[]\n",
    "\n",
    "for i in range(len(threshold_list)):\n",
    "    \n",
    "    ac,pr = roc(loss_list,threshold_list[i])\n",
    "    final_actual11.append(ac)  \n",
    "    final_predicted11.append(pr)\n",
    "    \n",
    "    TP=0\n",
    "    FP=0\n",
    "    TN=0\n",
    "    FN=0\n",
    "    #compare final_actual11[i] and final_predicted11[i]\n",
    "    for j in range(len(final_actual11[i])):\n",
    "        if final_actual11[i][j]==1 and final_predicted11[i][j] ==1:\n",
    "            TP +=1\n",
    "        elif final_actual11[i][j] ==1 and final_predicted11[i][j]==0:\n",
    "            FN +=1\n",
    "        elif final_actual11[i][j]==0 and final_predicted11[i][j] ==1:\n",
    "            FP +=1\n",
    "        elif final_actual11[i][j]==0 and final_predicted11[i][j]==0:\n",
    "            TN +=1\n",
    "    \n",
    "            \n",
    "    TPR.append(TP / (TP+FN))\n",
    "    FPR.append(FP/(FP+TN))\n",
    "    \n",
    "\"\"\"    \n",
    "#TPR, FPR에 (0,0),(1,1)넣기\n",
    "TPR.insert(0,0)\n",
    "TPR.append(1)\n",
    "FPR.insert(0,0)\n",
    "FPR.append(1)\n",
    "\"\"\"\n",
    "\n",
    "\n",
    "#최종 면적 구하기\n",
    "import matplotlib.pyplot as plt\n",
    "from sklearn.metrics import auc\n",
    "plt.plot( FPR,TPR)\n",
    "area = auc(FPR,TPR)\n",
    "\n",
    "print('area under curve:', area)"
   ]
  },
  {
   "cell_type": "code",
   "execution_count": null,
   "metadata": {},
   "outputs": [],
   "source": []
  },
  {
   "cell_type": "code",
   "execution_count": null,
   "metadata": {},
   "outputs": [],
   "source": []
  },
  {
   "cell_type": "code",
   "execution_count": null,
   "metadata": {},
   "outputs": [],
   "source": []
  },
  {
   "cell_type": "code",
   "execution_count": null,
   "metadata": {},
   "outputs": [],
   "source": []
  },
  {
   "cell_type": "code",
   "execution_count": null,
   "metadata": {},
   "outputs": [],
   "source": []
  },
  {
   "cell_type": "code",
   "execution_count": null,
   "metadata": {},
   "outputs": [],
   "source": []
  },
  {
   "cell_type": "code",
   "execution_count": null,
   "metadata": {},
   "outputs": [],
   "source": []
  },
  {
   "cell_type": "code",
   "execution_count": null,
   "metadata": {},
   "outputs": [],
   "source": []
  },
  {
   "cell_type": "code",
   "execution_count": null,
   "metadata": {},
   "outputs": [],
   "source": []
  },
  {
   "cell_type": "code",
   "execution_count": null,
   "metadata": {},
   "outputs": [],
   "source": []
  },
  {
   "cell_type": "code",
   "execution_count": null,
   "metadata": {},
   "outputs": [],
   "source": []
  },
  {
   "cell_type": "code",
   "execution_count": null,
   "metadata": {},
   "outputs": [],
   "source": []
  },
  {
   "cell_type": "code",
   "execution_count": null,
   "metadata": {},
   "outputs": [],
   "source": []
  },
  {
   "cell_type": "code",
   "execution_count": null,
   "metadata": {},
   "outputs": [],
   "source": []
  },
  {
   "cell_type": "code",
   "execution_count": null,
   "metadata": {},
   "outputs": [],
   "source": []
  }
 ],
 "metadata": {
  "kernelspec": {
   "display_name": "pytorch",
   "language": "python",
   "name": "pytorch"
  },
  "language_info": {
   "codemirror_mode": {
    "name": "ipython",
    "version": 3
   },
   "file_extension": ".py",
   "mimetype": "text/x-python",
   "name": "python",
   "nbconvert_exporter": "python",
   "pygments_lexer": "ipython3",
   "version": "3.6.10"
  }
 },
 "nbformat": 4,
 "nbformat_minor": 4
}
